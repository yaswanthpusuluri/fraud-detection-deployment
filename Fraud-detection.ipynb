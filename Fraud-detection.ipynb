{
 "cells": [
  {
   "cell_type": "code",
   "execution_count": 2,
   "metadata": {},
   "outputs": [],
   "source": [
    "import pandas as pd\n",
    "data=pd.read_csv('fraud_detection_dataset.csv')"
   ]
  },
  {
   "cell_type": "code",
   "execution_count": 3,
   "metadata": {},
   "outputs": [
    {
     "data": {
      "text/html": [
       "<div>\n",
       "<style scoped>\n",
       "    .dataframe tbody tr th:only-of-type {\n",
       "        vertical-align: middle;\n",
       "    }\n",
       "\n",
       "    .dataframe tbody tr th {\n",
       "        vertical-align: top;\n",
       "    }\n",
       "\n",
       "    .dataframe thead th {\n",
       "        text-align: right;\n",
       "    }\n",
       "</style>\n",
       "<table border=\"1\" class=\"dataframe\">\n",
       "  <thead>\n",
       "    <tr style=\"text-align: right;\">\n",
       "      <th></th>\n",
       "      <th>Amount</th>\n",
       "      <th>HourOfDay</th>\n",
       "      <th>DayOfWeek</th>\n",
       "      <th>MerchantCategory</th>\n",
       "      <th>IsInternational</th>\n",
       "      <th>Fraudulent</th>\n",
       "    </tr>\n",
       "  </thead>\n",
       "  <tbody>\n",
       "    <tr>\n",
       "      <th>0</th>\n",
       "      <td>234.50</td>\n",
       "      <td>15</td>\n",
       "      <td>3</td>\n",
       "      <td>Electronics</td>\n",
       "      <td>0</td>\n",
       "      <td>0</td>\n",
       "    </tr>\n",
       "    <tr>\n",
       "      <th>1</th>\n",
       "      <td>19.99</td>\n",
       "      <td>8</td>\n",
       "      <td>1</td>\n",
       "      <td>Groceries</td>\n",
       "      <td>1</td>\n",
       "      <td>1</td>\n",
       "    </tr>\n",
       "    <tr>\n",
       "      <th>2</th>\n",
       "      <td>99.00</td>\n",
       "      <td>21</td>\n",
       "      <td>5</td>\n",
       "      <td>Clothing</td>\n",
       "      <td>0</td>\n",
       "      <td>0</td>\n",
       "    </tr>\n",
       "    <tr>\n",
       "      <th>3</th>\n",
       "      <td>155.75</td>\n",
       "      <td>10</td>\n",
       "      <td>2</td>\n",
       "      <td>Jewelry</td>\n",
       "      <td>0</td>\n",
       "      <td>0</td>\n",
       "    </tr>\n",
       "    <tr>\n",
       "      <th>4</th>\n",
       "      <td>42.00</td>\n",
       "      <td>16</td>\n",
       "      <td>6</td>\n",
       "      <td>Electronics</td>\n",
       "      <td>1</td>\n",
       "      <td>0</td>\n",
       "    </tr>\n",
       "    <tr>\n",
       "      <th>...</th>\n",
       "      <td>...</td>\n",
       "      <td>...</td>\n",
       "      <td>...</td>\n",
       "      <td>...</td>\n",
       "      <td>...</td>\n",
       "      <td>...</td>\n",
       "    </tr>\n",
       "    <tr>\n",
       "      <th>187</th>\n",
       "      <td>55.00</td>\n",
       "      <td>10</td>\n",
       "      <td>2</td>\n",
       "      <td>Jewelry</td>\n",
       "      <td>0</td>\n",
       "      <td>1</td>\n",
       "    </tr>\n",
       "    <tr>\n",
       "      <th>188</th>\n",
       "      <td>95.00</td>\n",
       "      <td>15</td>\n",
       "      <td>6</td>\n",
       "      <td>Electronics</td>\n",
       "      <td>1</td>\n",
       "      <td>1</td>\n",
       "    </tr>\n",
       "    <tr>\n",
       "      <th>189</th>\n",
       "      <td>120.00</td>\n",
       "      <td>11</td>\n",
       "      <td>3</td>\n",
       "      <td>Groceries</td>\n",
       "      <td>0</td>\n",
       "      <td>0</td>\n",
       "    </tr>\n",
       "    <tr>\n",
       "      <th>190</th>\n",
       "      <td>38.50</td>\n",
       "      <td>17</td>\n",
       "      <td>5</td>\n",
       "      <td>Clothing</td>\n",
       "      <td>1</td>\n",
       "      <td>0</td>\n",
       "    </tr>\n",
       "    <tr>\n",
       "      <th>191</th>\n",
       "      <td>200.00</td>\n",
       "      <td>14</td>\n",
       "      <td>1</td>\n",
       "      <td>Jewelry</td>\n",
       "      <td>0</td>\n",
       "      <td>1</td>\n",
       "    </tr>\n",
       "  </tbody>\n",
       "</table>\n",
       "<p>192 rows × 6 columns</p>\n",
       "</div>"
      ],
      "text/plain": [
       "     Amount  HourOfDay  DayOfWeek MerchantCategory  IsInternational  \\\n",
       "0    234.50         15          3      Electronics                0   \n",
       "1     19.99          8          1        Groceries                1   \n",
       "2     99.00         21          5         Clothing                0   \n",
       "3    155.75         10          2          Jewelry                0   \n",
       "4     42.00         16          6      Electronics                1   \n",
       "..      ...        ...        ...              ...              ...   \n",
       "187   55.00         10          2          Jewelry                0   \n",
       "188   95.00         15          6      Electronics                1   \n",
       "189  120.00         11          3        Groceries                0   \n",
       "190   38.50         17          5         Clothing                1   \n",
       "191  200.00         14          1          Jewelry                0   \n",
       "\n",
       "     Fraudulent  \n",
       "0             0  \n",
       "1             1  \n",
       "2             0  \n",
       "3             0  \n",
       "4             0  \n",
       "..          ...  \n",
       "187           1  \n",
       "188           1  \n",
       "189           0  \n",
       "190           0  \n",
       "191           1  \n",
       "\n",
       "[192 rows x 6 columns]"
      ]
     },
     "execution_count": 3,
     "metadata": {},
     "output_type": "execute_result"
    }
   ],
   "source": [
    "data"
   ]
  },
  {
   "cell_type": "code",
   "execution_count": 4,
   "metadata": {},
   "outputs": [
    {
     "name": "stdout",
     "output_type": "stream",
     "text": [
      "<class 'pandas.core.frame.DataFrame'>\n",
      "RangeIndex: 192 entries, 0 to 191\n",
      "Data columns (total 6 columns):\n",
      " #   Column            Non-Null Count  Dtype  \n",
      "---  ------            --------------  -----  \n",
      " 0   Amount            192 non-null    float64\n",
      " 1   HourOfDay         192 non-null    int64  \n",
      " 2   DayOfWeek         192 non-null    int64  \n",
      " 3   MerchantCategory  192 non-null    object \n",
      " 4   IsInternational   192 non-null    int64  \n",
      " 5   Fraudulent        192 non-null    int64  \n",
      "dtypes: float64(1), int64(4), object(1)\n",
      "memory usage: 9.1+ KB\n"
     ]
    }
   ],
   "source": [
    "data.info()"
   ]
  },
  {
   "cell_type": "code",
   "execution_count": 5,
   "metadata": {},
   "outputs": [
    {
     "data": {
      "text/plain": [
       "Index(['Amount', 'HourOfDay', 'DayOfWeek', 'MerchantCategory',\n",
       "       'IsInternational', 'Fraudulent'],\n",
       "      dtype='object')"
      ]
     },
     "execution_count": 5,
     "metadata": {},
     "output_type": "execute_result"
    }
   ],
   "source": [
    "data.columns"
   ]
  },
  {
   "cell_type": "code",
   "execution_count": 6,
   "metadata": {},
   "outputs": [
    {
     "data": {
      "text/plain": [
       "0      234.50\n",
       "1       19.99\n",
       "2       99.00\n",
       "3      155.75\n",
       "4       42.00\n",
       "        ...  \n",
       "187     55.00\n",
       "188     95.00\n",
       "189    120.00\n",
       "190     38.50\n",
       "191    200.00\n",
       "Name: Amount, Length: 192, dtype: float64"
      ]
     },
     "execution_count": 6,
     "metadata": {},
     "output_type": "execute_result"
    }
   ],
   "source": [
    "data.Amount"
   ]
  },
  {
   "cell_type": "code",
   "execution_count": 7,
   "metadata": {},
   "outputs": [
    {
     "data": {
      "text/plain": [
       "0      0\n",
       "1      1\n",
       "2      0\n",
       "3      0\n",
       "4      0\n",
       "      ..\n",
       "187    1\n",
       "188    1\n",
       "189    0\n",
       "190    0\n",
       "191    1\n",
       "Name: Fraudulent, Length: 192, dtype: int64"
      ]
     },
     "execution_count": 7,
     "metadata": {},
     "output_type": "execute_result"
    }
   ],
   "source": [
    "data.Fraudulent "
   ]
  },
  {
   "cell_type": "code",
   "execution_count": 8,
   "metadata": {},
   "outputs": [
    {
     "data": {
      "text/plain": [
       "0      15\n",
       "1       8\n",
       "2      21\n",
       "3      10\n",
       "4      16\n",
       "       ..\n",
       "187    10\n",
       "188    15\n",
       "189    11\n",
       "190    17\n",
       "191    14\n",
       "Name: HourOfDay, Length: 192, dtype: int64"
      ]
     },
     "execution_count": 8,
     "metadata": {},
     "output_type": "execute_result"
    }
   ],
   "source": [
    "data.HourOfDay"
   ]
  },
  {
   "cell_type": "code",
   "execution_count": 9,
   "metadata": {},
   "outputs": [
    {
     "data": {
      "text/plain": [
       "0      3\n",
       "1      1\n",
       "2      5\n",
       "3      2\n",
       "4      6\n",
       "      ..\n",
       "187    2\n",
       "188    6\n",
       "189    3\n",
       "190    5\n",
       "191    1\n",
       "Name: DayOfWeek, Length: 192, dtype: int64"
      ]
     },
     "execution_count": 9,
     "metadata": {},
     "output_type": "execute_result"
    }
   ],
   "source": [
    "data.DayOfWeek"
   ]
  },
  {
   "cell_type": "code",
   "execution_count": 10,
   "metadata": {},
   "outputs": [
    {
     "data": {
      "text/plain": [
       "0      Electronics\n",
       "1        Groceries\n",
       "2         Clothing\n",
       "3          Jewelry\n",
       "4      Electronics\n",
       "          ...     \n",
       "187        Jewelry\n",
       "188    Electronics\n",
       "189      Groceries\n",
       "190       Clothing\n",
       "191        Jewelry\n",
       "Name: MerchantCategory, Length: 192, dtype: object"
      ]
     },
     "execution_count": 10,
     "metadata": {},
     "output_type": "execute_result"
    }
   ],
   "source": [
    "data.MerchantCategory"
   ]
  },
  {
   "cell_type": "code",
   "execution_count": 11,
   "metadata": {},
   "outputs": [
    {
     "data": {
      "text/plain": [
       "0      0\n",
       "1      1\n",
       "2      0\n",
       "3      0\n",
       "4      1\n",
       "      ..\n",
       "187    0\n",
       "188    1\n",
       "189    0\n",
       "190    1\n",
       "191    0\n",
       "Name: IsInternational, Length: 192, dtype: int64"
      ]
     },
     "execution_count": 11,
     "metadata": {},
     "output_type": "execute_result"
    }
   ],
   "source": [
    "data.IsInternational"
   ]
  },
  {
   "cell_type": "code",
   "execution_count": 12,
   "metadata": {},
   "outputs": [],
   "source": [
    "X=data.iloc[:,:-1].values"
   ]
  },
  {
   "cell_type": "code",
   "execution_count": 13,
   "metadata": {},
   "outputs": [
    {
     "data": {
      "text/plain": [
       "array([[234.5, 15, 3, 'Electronics', 0],\n",
       "       [19.99, 8, 1, 'Groceries', 1],\n",
       "       [99.0, 21, 5, 'Clothing', 0],\n",
       "       [155.75, 10, 2, 'Jewelry', 0],\n",
       "       [42.0, 16, 6, 'Electronics', 1],\n",
       "       [73.2, 12, 4, 'Groceries', 0],\n",
       "       [310.0, 3, 0, 'Clothing', 1],\n",
       "       [88.75, 18, 1, 'Jewelry', 0],\n",
       "       [60.5, 9, 5, 'Electronics', 1],\n",
       "       [120.0, 14, 2, 'Groceries', 0],\n",
       "       [200.0, 6, 3, 'Clothing', 0],\n",
       "       [15.0, 22, 0, 'Jewelry', 1],\n",
       "       [80.0, 17, 6, 'Electronics', 0],\n",
       "       [45.5, 11, 4, 'Groceries', 0],\n",
       "       [300.0, 5, 2, 'Clothing', 1],\n",
       "       [65.0, 13, 3, 'Jewelry', 1],\n",
       "       [150.0, 14, 1, 'Electronics', 0],\n",
       "       [29.99, 7, 5, 'Groceries', 0],\n",
       "       [180.0, 16, 0, 'Clothing', 0],\n",
       "       [55.0, 10, 4, 'Jewelry', 0],\n",
       "       [95.0, 21, 2, 'Electronics', 1],\n",
       "       [120.0, 12, 6, 'Groceries', 0],\n",
       "       [38.5, 9, 3, 'Clothing', 0],\n",
       "       [200.0, 18, 5, 'Jewelry', 0],\n",
       "       [80.0, 6, 1, 'Electronics', 1],\n",
       "       [19.99, 13, 4, 'Groceries', 1],\n",
       "       [110.0, 20, 2, 'Clothing', 0],\n",
       "       [50.0, 15, 0, 'Jewelry', 0],\n",
       "       [75.0, 11, 5, 'Electronics', 0],\n",
       "       [300.0, 16, 1, 'Groceries', 0],\n",
       "       [65.0, 8, 3, 'Clothing', 0],\n",
       "       [120.0, 12, 6, 'Jewelry', 0],\n",
       "       [40.0, 19, 2, 'Electronics', 1],\n",
       "       [150.0, 9, 4, 'Groceries', 0],\n",
       "       [30.0, 14, 0, 'Clothing', 0],\n",
       "       [85.0, 17, 5, 'Jewelry', 1],\n",
       "       [95.0, 22, 1, 'Electronics', 0],\n",
       "       [25.0, 6, 6, 'Groceries', 0],\n",
       "       [180.0, 10, 3, 'Clothing', 0],\n",
       "       [60.0, 15, 2, 'Jewelry', 1],\n",
       "       [120.0, 11, 5, 'Electronics', 0],\n",
       "       [200.0, 17, 1, 'Groceries', 0],\n",
       "       [35.0, 14, 4, 'Clothing', 1],\n",
       "       [250.0, 9, 0, 'Jewelry', 0],\n",
       "       [75.0, 11, 6, 'Electronics', 1],\n",
       "       [150.0, 19, 2, 'Groceries', 0],\n",
       "       [29.99, 12, 5, 'Clothing', 1],\n",
       "       [110.0, 7, 1, 'Jewelry', 0],\n",
       "       [55.0, 16, 3, 'Electronics', 0],\n",
       "       [90.0, 10, 4, 'Groceries', 1],\n",
       "       [40.0, 21, 0, 'Clothing', 0],\n",
       "       [70.0, 13, 2, 'Jewelry', 0],\n",
       "       [125.0, 18, 5, 'Electronics', 1],\n",
       "       [18.5, 14, 1, 'Groceries', 0],\n",
       "       [200.0, 8, 6, 'Clothing', 1],\n",
       "       [15.0, 11, 3, 'Jewelry', 0],\n",
       "       [85.0, 17, 1, 'Electronics', 1],\n",
       "       [60.0, 22, 5, 'Groceries', 0],\n",
       "       [120.0, 6, 0, 'Clothing', 0],\n",
       "       [45.0, 9, 4, 'Jewelry', 1],\n",
       "       [95.0, 15, 2, 'Electronics', 0],\n",
       "       [25.0, 20, 6, 'Groceries', 0],\n",
       "       [150.0, 8, 3, 'Clothing', 1],\n",
       "       [30.0, 12, 1, 'Jewelry', 1],\n",
       "       [80.0, 16, 5, 'Electronics', 0],\n",
       "       [120.0, 11, 0, 'Groceries', 0],\n",
       "       [19.99, 18, 4, 'Clothing', 0],\n",
       "       [110.0, 13, 2, 'Jewelry', 0],\n",
       "       [55.0, 19, 5, 'Electronics', 1],\n",
       "       [90.0, 9, 1, 'Groceries', 0],\n",
       "       [40.0, 14, 3, 'Clothing', 0],\n",
       "       [70.0, 18, 6, 'Jewelry', 0],\n",
       "       [125.0, 7, 2, 'Electronics', 1],\n",
       "       [18.5, 22, 4, 'Groceries', 1],\n",
       "       [200.0, 10, 0, 'Clothing', 0],\n",
       "       [15.0, 15, 5, 'Jewelry', 0],\n",
       "       [85.0, 19, 1, 'Electronics', 0],\n",
       "       [60.0, 6, 6, 'Groceries', 0],\n",
       "       [120.0, 12, 3, 'Clothing', 0],\n",
       "       [45.0, 16, 1, 'Jewelry', 0],\n",
       "       [95.0, 21, 4, 'Electronics', 1],\n",
       "       [25.0, 11, 0, 'Groceries', 0],\n",
       "       [150.0, 17, 2, 'Clothing', 0],\n",
       "       [30.0, 8, 5, 'Jewelry', 1],\n",
       "       [80.0, 13, 1, 'Electronics', 0],\n",
       "       [120.0, 19, 6, 'Groceries', 0],\n",
       "       [19.99, 9, 3, 'Clothing', 0],\n",
       "       [110.0, 14, 0, 'Jewelry', 1],\n",
       "       [55.0, 18, 5, 'Electronics', 0],\n",
       "       [90.0, 10, 1, 'Groceries', 0],\n",
       "       [40.0, 15, 4, 'Clothing', 1],\n",
       "       [70.0, 20, 2, 'Jewelry', 0],\n",
       "       [125.0, 12, 6, 'Electronics', 1],\n",
       "       [18.5, 17, 3, 'Groceries', 0],\n",
       "       [200.0, 11, 5, 'Clothing', 1],\n",
       "       [15.0, 16, 1, 'Jewelry', 0],\n",
       "       [85.0, 21, 2, 'Electronics', 0],\n",
       "       [150.0, 21, 4, 'Groceries', 1],\n",
       "       [29.99, 12, 0, 'Clothing', 0],\n",
       "       [180.0, 9, 2, 'Jewelry', 0],\n",
       "       [55.0, 18, 5, 'Electronics', 1],\n",
       "       [95.0, 6, 1, 'Groceries', 0],\n",
       "       [120.0, 13, 6, 'Clothing', 1],\n",
       "       [38.5, 20, 3, 'Jewelry', 0],\n",
       "       [200.0, 15, 1, 'Electronics', 1],\n",
       "       [80.0, 11, 5, 'Groceries', 0],\n",
       "       [19.99, 16, 0, 'Clothing', 0],\n",
       "       [110.0, 8, 4, 'Jewelry', 1],\n",
       "       [50.0, 12, 2, 'Electronics', 0],\n",
       "       [75.0, 19, 6, 'Groceries', 0],\n",
       "       [300.0, 9, 3, 'Clothing', 1],\n",
       "       [65.0, 14, 1, 'Jewelry', 1],\n",
       "       [95.0, 17, 5, 'Electronics', 0],\n",
       "       [25.0, 22, 0, 'Groceries', 0],\n",
       "       [180.0, 6, 4, 'Clothing', 0],\n",
       "       [60.0, 10, 2, 'Jewelry', 0],\n",
       "       [120.0, 15, 5, 'Electronics', 1],\n",
       "       [200.0, 11, 1, 'Groceries', 0],\n",
       "       [35.0, 17, 3, 'Clothing', 0],\n",
       "       [250.0, 14, 6, 'Jewelry', 0],\n",
       "       [75.0, 9, 2, 'Electronics', 1],\n",
       "       [150.0, 11, 4, 'Groceries', 1],\n",
       "       [29.99, 19, 0, 'Clothing', 0],\n",
       "       [110.0, 12, 5, 'Jewelry', 0],\n",
       "       [55.0, 7, 1, 'Electronics', 0],\n",
       "       [90.0, 16, 6, 'Groceries', 0],\n",
       "       [40.0, 10, 3, 'Clothing', 0],\n",
       "       [70.0, 21, 1, 'Jewelry', 0],\n",
       "       [125.0, 13, 4, 'Electronics', 1],\n",
       "       [18.5, 18, 0, 'Groceries', 0],\n",
       "       [200.0, 15, 2, 'Clothing', 0],\n",
       "       [15.0, 8, 5, 'Jewelry', 1],\n",
       "       [85.0, 21, 1, 'Electronics', 0],\n",
       "       [60.0, 10, 6, 'Groceries', 0],\n",
       "       [25.0, 16, 3, 'Clothing', 0],\n",
       "       [150.0, 12, 0, 'Jewelry', 1],\n",
       "       [30.0, 3, 5, 'Electronics', 0],\n",
       "       [80.0, 18, 1, 'Groceries', 0],\n",
       "       [120.0, 9, 4, 'Clothing', 1],\n",
       "       [19.99, 14, 2, 'Jewelry', 0],\n",
       "       [110.0, 6, 6, 'Electronics', 1],\n",
       "       [55.0, 22, 3, 'Groceries', 0],\n",
       "       [90.0, 7, 5, 'Clothing', 1],\n",
       "       [40.0, 22, 1, 'Jewelry', 0],\n",
       "       [70.0, 10, 2, 'Electronics', 0],\n",
       "       [125.0, 15, 4, 'Groceries', 1],\n",
       "       [18.5, 19, 0, 'Clothing', 0],\n",
       "       [200.0, 6, 2, 'Jewelry', 0],\n",
       "       [15.0, 12, 5, 'Electronics', 1],\n",
       "       [85.0, 16, 1, 'Groceries', 0],\n",
       "       [60.0, 21, 6, 'Clothing', 1],\n",
       "       [120.0, 11, 3, 'Jewelry', 0],\n",
       "       [45.0, 17, 1, 'Electronics', 1],\n",
       "       [95.0, 8, 5, 'Groceries', 0],\n",
       "       [25.0, 13, 0, 'Clothing', 0],\n",
       "       [150.0, 19, 4, 'Jewelry', 1],\n",
       "       [30.0, 9, 2, 'Electronics', 0],\n",
       "       [80.0, 10, 6, 'Groceries', 0],\n",
       "       [120.0, 15, 3, 'Clothing', 1],\n",
       "       [19.99, 11, 1, 'Jewelry', 1],\n",
       "       [110.0, 17, 5, 'Electronics', 0],\n",
       "       [55.0, 14, 0, 'Groceries', 0],\n",
       "       [90.0, 9, 4, 'Clothing', 0],\n",
       "       [25.0, 11, 2, 'Jewelry', 0],\n",
       "       [150.0, 19, 5, 'Electronics', 1],\n",
       "       [30.0, 12, 1, 'Groceries', 0],\n",
       "       [80.0, 7, 3, 'Clothing', 0],\n",
       "       [120.0, 16, 6, 'Jewelry', 0],\n",
       "       [19.99, 10, 2, 'Electronics', 1],\n",
       "       [110.0, 21, 4, 'Groceries', 1],\n",
       "       [55.0, 13, 0, 'Clothing', 0],\n",
       "       [90.0, 18, 5, 'Jewelry', 0],\n",
       "       [40.0, 10, 1, 'Electronics', 0],\n",
       "       [70.0, 15, 6, 'Groceries', 0],\n",
       "       [125.0, 11, 3, 'Clothing', 0],\n",
       "       [18.5, 17, 1, 'Jewelry', 0],\n",
       "       [200.0, 14, 4, 'Electronics', 1],\n",
       "       [15.0, 9, 0, 'Groceries', 0],\n",
       "       [85.0, 11, 2, 'Clothing', 0],\n",
       "       [150.0, 19, 5, 'Jewelry', 1],\n",
       "       [29.99, 12, 1, 'Electronics', 0],\n",
       "       [180.0, 7, 6, 'Groceries', 0],\n",
       "       [55.0, 16, 3, 'Clothing', 0],\n",
       "       [95.0, 10, 0, 'Jewelry', 1],\n",
       "       [120.0, 21, 5, 'Electronics', 1],\n",
       "       [38.5, 13, 1, 'Groceries', 0],\n",
       "       [200.0, 18, 4, 'Clothing', 1],\n",
       "       [55.0, 10, 2, 'Jewelry', 0],\n",
       "       [95.0, 15, 6, 'Electronics', 1],\n",
       "       [120.0, 11, 3, 'Groceries', 0],\n",
       "       [38.5, 17, 5, 'Clothing', 1],\n",
       "       [200.0, 14, 1, 'Jewelry', 0]], dtype=object)"
      ]
     },
     "execution_count": 13,
     "metadata": {},
     "output_type": "execute_result"
    }
   ],
   "source": [
    "X"
   ]
  },
  {
   "cell_type": "code",
   "execution_count": 14,
   "metadata": {},
   "outputs": [],
   "source": [
    "Y=data.iloc[:,-1].values"
   ]
  },
  {
   "cell_type": "code",
   "execution_count": 15,
   "metadata": {},
   "outputs": [
    {
     "data": {
      "text/plain": [
       "array([0, 1, 0, 0, 0, 0, 1, 0, 0, 0, 1, 0, 0, 0, 1, 0, 0, 0, 0, 0, 0, 1,\n",
       "       0, 0, 0, 0, 0, 0, 0, 1, 0, 0, 0, 1, 0, 0, 0, 0, 0, 0, 0, 1, 0, 1,\n",
       "       0, 0, 0, 0, 1, 0, 1, 0, 0, 0, 0, 1, 0, 1, 0, 1, 0, 1, 0, 0, 0, 0,\n",
       "       1, 1, 0, 0, 0, 0, 0, 1, 0, 0, 0, 1, 0, 0, 0, 1, 0, 0, 0, 0, 0, 1,\n",
       "       0, 0, 0, 0, 0, 0, 1, 0, 0, 0, 1, 0, 0, 0, 0, 0, 0, 1, 0, 0, 0, 0,\n",
       "       0, 0, 0, 1, 0, 0, 0, 1, 0, 0, 0, 0, 0, 0, 1, 0, 0, 0, 1, 0, 0, 0,\n",
       "       1, 0, 0, 0, 0, 0, 1, 0, 0, 0, 0, 0, 0, 1, 0, 0, 0, 1, 0, 0, 0, 0,\n",
       "       1, 0, 0, 0, 0, 0, 0, 0, 1, 0, 1, 0, 0, 0, 0, 1, 0, 1, 0, 0, 0, 0,\n",
       "       1, 0, 1, 0, 1, 0, 1, 0, 0, 0, 0, 1, 1, 0, 0, 1], dtype=int64)"
      ]
     },
     "execution_count": 15,
     "metadata": {},
     "output_type": "execute_result"
    }
   ],
   "source": [
    "Y"
   ]
  },
  {
   "cell_type": "code",
   "execution_count": 16,
   "metadata": {},
   "outputs": [],
   "source": [
    "from sklearn.preprocessing import LabelEncoder\n",
    "from sklearn.compose import ColumnTransformer\n",
    "\n",
    "le=LabelEncoder()\n",
    "X[:,3]=le.fit_transform(X[:,3])"
   ]
  },
  {
   "cell_type": "code",
   "execution_count": 17,
   "metadata": {},
   "outputs": [
    {
     "data": {
      "text/plain": [
       "array([[234.5, 15, 3, 1, 0],\n",
       "       [19.99, 8, 1, 2, 1],\n",
       "       [99.0, 21, 5, 0, 0],\n",
       "       [155.75, 10, 2, 3, 0],\n",
       "       [42.0, 16, 6, 1, 1],\n",
       "       [73.2, 12, 4, 2, 0],\n",
       "       [310.0, 3, 0, 0, 1],\n",
       "       [88.75, 18, 1, 3, 0],\n",
       "       [60.5, 9, 5, 1, 1],\n",
       "       [120.0, 14, 2, 2, 0],\n",
       "       [200.0, 6, 3, 0, 0],\n",
       "       [15.0, 22, 0, 3, 1],\n",
       "       [80.0, 17, 6, 1, 0],\n",
       "       [45.5, 11, 4, 2, 0],\n",
       "       [300.0, 5, 2, 0, 1],\n",
       "       [65.0, 13, 3, 3, 1],\n",
       "       [150.0, 14, 1, 1, 0],\n",
       "       [29.99, 7, 5, 2, 0],\n",
       "       [180.0, 16, 0, 0, 0],\n",
       "       [55.0, 10, 4, 3, 0],\n",
       "       [95.0, 21, 2, 1, 1],\n",
       "       [120.0, 12, 6, 2, 0],\n",
       "       [38.5, 9, 3, 0, 0],\n",
       "       [200.0, 18, 5, 3, 0],\n",
       "       [80.0, 6, 1, 1, 1],\n",
       "       [19.99, 13, 4, 2, 1],\n",
       "       [110.0, 20, 2, 0, 0],\n",
       "       [50.0, 15, 0, 3, 0],\n",
       "       [75.0, 11, 5, 1, 0],\n",
       "       [300.0, 16, 1, 2, 0],\n",
       "       [65.0, 8, 3, 0, 0],\n",
       "       [120.0, 12, 6, 3, 0],\n",
       "       [40.0, 19, 2, 1, 1],\n",
       "       [150.0, 9, 4, 2, 0],\n",
       "       [30.0, 14, 0, 0, 0],\n",
       "       [85.0, 17, 5, 3, 1],\n",
       "       [95.0, 22, 1, 1, 0],\n",
       "       [25.0, 6, 6, 2, 0],\n",
       "       [180.0, 10, 3, 0, 0],\n",
       "       [60.0, 15, 2, 3, 1],\n",
       "       [120.0, 11, 5, 1, 0],\n",
       "       [200.0, 17, 1, 2, 0],\n",
       "       [35.0, 14, 4, 0, 1],\n",
       "       [250.0, 9, 0, 3, 0],\n",
       "       [75.0, 11, 6, 1, 1],\n",
       "       [150.0, 19, 2, 2, 0],\n",
       "       [29.99, 12, 5, 0, 1],\n",
       "       [110.0, 7, 1, 3, 0],\n",
       "       [55.0, 16, 3, 1, 0],\n",
       "       [90.0, 10, 4, 2, 1],\n",
       "       [40.0, 21, 0, 0, 0],\n",
       "       [70.0, 13, 2, 3, 0],\n",
       "       [125.0, 18, 5, 1, 1],\n",
       "       [18.5, 14, 1, 2, 0],\n",
       "       [200.0, 8, 6, 0, 1],\n",
       "       [15.0, 11, 3, 3, 0],\n",
       "       [85.0, 17, 1, 1, 1],\n",
       "       [60.0, 22, 5, 2, 0],\n",
       "       [120.0, 6, 0, 0, 0],\n",
       "       [45.0, 9, 4, 3, 1],\n",
       "       [95.0, 15, 2, 1, 0],\n",
       "       [25.0, 20, 6, 2, 0],\n",
       "       [150.0, 8, 3, 0, 1],\n",
       "       [30.0, 12, 1, 3, 1],\n",
       "       [80.0, 16, 5, 1, 0],\n",
       "       [120.0, 11, 0, 2, 0],\n",
       "       [19.99, 18, 4, 0, 0],\n",
       "       [110.0, 13, 2, 3, 0],\n",
       "       [55.0, 19, 5, 1, 1],\n",
       "       [90.0, 9, 1, 2, 0],\n",
       "       [40.0, 14, 3, 0, 0],\n",
       "       [70.0, 18, 6, 3, 0],\n",
       "       [125.0, 7, 2, 1, 1],\n",
       "       [18.5, 22, 4, 2, 1],\n",
       "       [200.0, 10, 0, 0, 0],\n",
       "       [15.0, 15, 5, 3, 0],\n",
       "       [85.0, 19, 1, 1, 0],\n",
       "       [60.0, 6, 6, 2, 0],\n",
       "       [120.0, 12, 3, 0, 0],\n",
       "       [45.0, 16, 1, 3, 0],\n",
       "       [95.0, 21, 4, 1, 1],\n",
       "       [25.0, 11, 0, 2, 0],\n",
       "       [150.0, 17, 2, 0, 0],\n",
       "       [30.0, 8, 5, 3, 1],\n",
       "       [80.0, 13, 1, 1, 0],\n",
       "       [120.0, 19, 6, 2, 0],\n",
       "       [19.99, 9, 3, 0, 0],\n",
       "       [110.0, 14, 0, 3, 1],\n",
       "       [55.0, 18, 5, 1, 0],\n",
       "       [90.0, 10, 1, 2, 0],\n",
       "       [40.0, 15, 4, 0, 1],\n",
       "       [70.0, 20, 2, 3, 0],\n",
       "       [125.0, 12, 6, 1, 1],\n",
       "       [18.5, 17, 3, 2, 0],\n",
       "       [200.0, 11, 5, 0, 1],\n",
       "       [15.0, 16, 1, 3, 0],\n",
       "       [85.0, 21, 2, 1, 0],\n",
       "       [150.0, 21, 4, 2, 1],\n",
       "       [29.99, 12, 0, 0, 0],\n",
       "       [180.0, 9, 2, 3, 0],\n",
       "       [55.0, 18, 5, 1, 1],\n",
       "       [95.0, 6, 1, 2, 0],\n",
       "       [120.0, 13, 6, 0, 1],\n",
       "       [38.5, 20, 3, 3, 0],\n",
       "       [200.0, 15, 1, 1, 1],\n",
       "       [80.0, 11, 5, 2, 0],\n",
       "       [19.99, 16, 0, 0, 0],\n",
       "       [110.0, 8, 4, 3, 1],\n",
       "       [50.0, 12, 2, 1, 0],\n",
       "       [75.0, 19, 6, 2, 0],\n",
       "       [300.0, 9, 3, 0, 1],\n",
       "       [65.0, 14, 1, 3, 1],\n",
       "       [95.0, 17, 5, 1, 0],\n",
       "       [25.0, 22, 0, 2, 0],\n",
       "       [180.0, 6, 4, 0, 0],\n",
       "       [60.0, 10, 2, 3, 0],\n",
       "       [120.0, 15, 5, 1, 1],\n",
       "       [200.0, 11, 1, 2, 0],\n",
       "       [35.0, 17, 3, 0, 0],\n",
       "       [250.0, 14, 6, 3, 0],\n",
       "       [75.0, 9, 2, 1, 1],\n",
       "       [150.0, 11, 4, 2, 1],\n",
       "       [29.99, 19, 0, 0, 0],\n",
       "       [110.0, 12, 5, 3, 0],\n",
       "       [55.0, 7, 1, 1, 0],\n",
       "       [90.0, 16, 6, 2, 0],\n",
       "       [40.0, 10, 3, 0, 0],\n",
       "       [70.0, 21, 1, 3, 0],\n",
       "       [125.0, 13, 4, 1, 1],\n",
       "       [18.5, 18, 0, 2, 0],\n",
       "       [200.0, 15, 2, 0, 0],\n",
       "       [15.0, 8, 5, 3, 1],\n",
       "       [85.0, 21, 1, 1, 0],\n",
       "       [60.0, 10, 6, 2, 0],\n",
       "       [25.0, 16, 3, 0, 0],\n",
       "       [150.0, 12, 0, 3, 1],\n",
       "       [30.0, 3, 5, 1, 0],\n",
       "       [80.0, 18, 1, 2, 0],\n",
       "       [120.0, 9, 4, 0, 1],\n",
       "       [19.99, 14, 2, 3, 0],\n",
       "       [110.0, 6, 6, 1, 1],\n",
       "       [55.0, 22, 3, 2, 0],\n",
       "       [90.0, 7, 5, 0, 1],\n",
       "       [40.0, 22, 1, 3, 0],\n",
       "       [70.0, 10, 2, 1, 0],\n",
       "       [125.0, 15, 4, 2, 1],\n",
       "       [18.5, 19, 0, 0, 0],\n",
       "       [200.0, 6, 2, 3, 0],\n",
       "       [15.0, 12, 5, 1, 1],\n",
       "       [85.0, 16, 1, 2, 0],\n",
       "       [60.0, 21, 6, 0, 1],\n",
       "       [120.0, 11, 3, 3, 0],\n",
       "       [45.0, 17, 1, 1, 1],\n",
       "       [95.0, 8, 5, 2, 0],\n",
       "       [25.0, 13, 0, 0, 0],\n",
       "       [150.0, 19, 4, 3, 1],\n",
       "       [30.0, 9, 2, 1, 0],\n",
       "       [80.0, 10, 6, 2, 0],\n",
       "       [120.0, 15, 3, 0, 1],\n",
       "       [19.99, 11, 1, 3, 1],\n",
       "       [110.0, 17, 5, 1, 0],\n",
       "       [55.0, 14, 0, 2, 0],\n",
       "       [90.0, 9, 4, 0, 0],\n",
       "       [25.0, 11, 2, 3, 0],\n",
       "       [150.0, 19, 5, 1, 1],\n",
       "       [30.0, 12, 1, 2, 0],\n",
       "       [80.0, 7, 3, 0, 0],\n",
       "       [120.0, 16, 6, 3, 0],\n",
       "       [19.99, 10, 2, 1, 1],\n",
       "       [110.0, 21, 4, 2, 1],\n",
       "       [55.0, 13, 0, 0, 0],\n",
       "       [90.0, 18, 5, 3, 0],\n",
       "       [40.0, 10, 1, 1, 0],\n",
       "       [70.0, 15, 6, 2, 0],\n",
       "       [125.0, 11, 3, 0, 0],\n",
       "       [18.5, 17, 1, 3, 0],\n",
       "       [200.0, 14, 4, 1, 1],\n",
       "       [15.0, 9, 0, 2, 0],\n",
       "       [85.0, 11, 2, 0, 0],\n",
       "       [150.0, 19, 5, 3, 1],\n",
       "       [29.99, 12, 1, 1, 0],\n",
       "       [180.0, 7, 6, 2, 0],\n",
       "       [55.0, 16, 3, 0, 0],\n",
       "       [95.0, 10, 0, 3, 1],\n",
       "       [120.0, 21, 5, 1, 1],\n",
       "       [38.5, 13, 1, 2, 0],\n",
       "       [200.0, 18, 4, 0, 1],\n",
       "       [55.0, 10, 2, 3, 0],\n",
       "       [95.0, 15, 6, 1, 1],\n",
       "       [120.0, 11, 3, 2, 0],\n",
       "       [38.5, 17, 5, 0, 1],\n",
       "       [200.0, 14, 1, 3, 0]], dtype=object)"
      ]
     },
     "execution_count": 17,
     "metadata": {},
     "output_type": "execute_result"
    }
   ],
   "source": [
    "X"
   ]
  },
  {
   "cell_type": "code",
   "execution_count": 18,
   "metadata": {},
   "outputs": [],
   "source": [
    "from sklearn.preprocessing import LabelEncoder\n",
    "\n",
    "le=LabelEncoder()\n",
    "Y=le.fit_transform(Y)"
   ]
  },
  {
   "cell_type": "code",
   "execution_count": 19,
   "metadata": {},
   "outputs": [
    {
     "data": {
      "text/plain": [
       "array([0, 1, 0, 0, 0, 0, 1, 0, 0, 0, 1, 0, 0, 0, 1, 0, 0, 0, 0, 0, 0, 1,\n",
       "       0, 0, 0, 0, 0, 0, 0, 1, 0, 0, 0, 1, 0, 0, 0, 0, 0, 0, 0, 1, 0, 1,\n",
       "       0, 0, 0, 0, 1, 0, 1, 0, 0, 0, 0, 1, 0, 1, 0, 1, 0, 1, 0, 0, 0, 0,\n",
       "       1, 1, 0, 0, 0, 0, 0, 1, 0, 0, 0, 1, 0, 0, 0, 1, 0, 0, 0, 0, 0, 1,\n",
       "       0, 0, 0, 0, 0, 0, 1, 0, 0, 0, 1, 0, 0, 0, 0, 0, 0, 1, 0, 0, 0, 0,\n",
       "       0, 0, 0, 1, 0, 0, 0, 1, 0, 0, 0, 0, 0, 0, 1, 0, 0, 0, 1, 0, 0, 0,\n",
       "       1, 0, 0, 0, 0, 0, 1, 0, 0, 0, 0, 0, 0, 1, 0, 0, 0, 1, 0, 0, 0, 0,\n",
       "       1, 0, 0, 0, 0, 0, 0, 0, 1, 0, 1, 0, 0, 0, 0, 1, 0, 1, 0, 0, 0, 0,\n",
       "       1, 0, 1, 0, 1, 0, 1, 0, 0, 0, 0, 1, 1, 0, 0, 1], dtype=int64)"
      ]
     },
     "execution_count": 19,
     "metadata": {},
     "output_type": "execute_result"
    }
   ],
   "source": [
    "Y"
   ]
  },
  {
   "cell_type": "code",
   "execution_count": 20,
   "metadata": {},
   "outputs": [],
   "source": [
    "from sklearn.model_selection import train_test_split\n",
    "X_train,X_test,Y_train,Y_test=train_test_split(X,Y,test_size=0.2)"
   ]
  },
  {
   "cell_type": "code",
   "execution_count": 21,
   "metadata": {},
   "outputs": [
    {
     "data": {
      "text/plain": [
       "(153, 5)"
      ]
     },
     "execution_count": 21,
     "metadata": {},
     "output_type": "execute_result"
    }
   ],
   "source": [
    "X_train.shape"
   ]
  },
  {
   "cell_type": "code",
   "execution_count": 22,
   "metadata": {},
   "outputs": [
    {
     "data": {
      "text/plain": [
       "(39, 5)"
      ]
     },
     "execution_count": 22,
     "metadata": {},
     "output_type": "execute_result"
    }
   ],
   "source": [
    "X_test.shape"
   ]
  },
  {
   "cell_type": "code",
   "execution_count": 23,
   "metadata": {},
   "outputs": [
    {
     "data": {
      "text/plain": [
       "(153,)"
      ]
     },
     "execution_count": 23,
     "metadata": {},
     "output_type": "execute_result"
    }
   ],
   "source": [
    "Y_train.shape"
   ]
  },
  {
   "cell_type": "code",
   "execution_count": 24,
   "metadata": {},
   "outputs": [
    {
     "data": {
      "text/plain": [
       "(39,)"
      ]
     },
     "execution_count": 24,
     "metadata": {},
     "output_type": "execute_result"
    }
   ],
   "source": [
    "Y_test.shape"
   ]
  },
  {
   "cell_type": "code",
   "execution_count": 25,
   "metadata": {},
   "outputs": [
    {
     "name": "stdout",
     "output_type": "stream",
     "text": [
      "[[200.0 15 1 1 1]\n",
      " [19.99 14 2 3 0]\n",
      " [70.0 13 2 3 0]\n",
      " [150.0 19 2 2 0]\n",
      " [38.5 20 3 3 0]\n",
      " [19.99 11 1 3 1]\n",
      " [65.0 14 1 3 1]\n",
      " [45.0 17 1 1 1]\n",
      " [110.0 8 4 3 1]\n",
      " [250.0 14 6 3 0]\n",
      " [45.5 11 4 2 0]\n",
      " [90.0 9 4 0 0]\n",
      " [200.0 14 1 3 0]\n",
      " [125.0 18 5 1 1]\n",
      " [85.0 19 1 1 0]\n",
      " [90.0 10 4 2 1]\n",
      " [18.5 17 1 3 0]\n",
      " [40.0 15 4 0 1]\n",
      " [29.99 12 1 1 0]\n",
      " [200.0 8 6 0 1]\n",
      " [30.0 3 5 1 0]\n",
      " [95.0 21 4 1 1]\n",
      " [19.99 18 4 0 0]\n",
      " [18.5 17 3 2 0]\n",
      " [19.99 16 0 0 0]\n",
      " [65.0 13 3 3 1]\n",
      " [55.0 18 5 1 1]\n",
      " [80.0 13 1 1 0]\n",
      " [15.0 9 0 2 0]\n",
      " [40.0 22 1 3 0]\n",
      " [200.0 14 4 1 1]\n",
      " [80.0 10 6 2 0]\n",
      " [30.0 14 0 0 0]\n",
      " [120.0 11 5 1 0]\n",
      " [150.0 19 5 1 1]\n",
      " [200.0 11 1 2 0]\n",
      " [90.0 9 1 2 0]\n",
      " [150.0 19 4 3 1]\n",
      " [95.0 15 2 1 0]\n",
      " [120.0 12 3 0 0]\n",
      " [125.0 11 3 0 0]\n",
      " [88.75 18 1 3 0]\n",
      " [45.0 16 1 3 0]\n",
      " [19.99 10 2 1 1]\n",
      " [95.0 10 0 3 1]\n",
      " [80.0 6 1 1 1]\n",
      " [40.0 19 2 1 1]\n",
      " [80.0 18 1 2 0]\n",
      " [95.0 6 1 2 0]\n",
      " [25.0 13 0 0 0]\n",
      " [110.0 13 2 3 0]\n",
      " [55.0 18 5 1 0]\n",
      " [55.0 22 3 2 0]\n",
      " [310.0 3 0 0 1]\n",
      " [95.0 21 2 1 1]\n",
      " [19.99 8 1 2 1]\n",
      " [70.0 10 2 1 0]\n",
      " [90.0 7 5 0 1]\n",
      " [65.0 8 3 0 0]\n",
      " [42.0 16 6 1 1]\n",
      " [120.0 11 3 2 0]\n",
      " [85.0 17 5 3 1]\n",
      " [250.0 9 0 3 0]\n",
      " [300.0 5 2 0 1]\n",
      " [200.0 11 5 0 1]\n",
      " [150.0 21 4 2 1]\n",
      " [120.0 21 5 1 1]\n",
      " [110.0 7 1 3 0]\n",
      " [150.0 12 0 3 1]\n",
      " [15.0 16 1 3 0]\n",
      " [180.0 6 4 0 0]\n",
      " [25.0 22 0 2 0]\n",
      " [95.0 17 5 1 0]\n",
      " [150.0 11 4 2 1]\n",
      " [55.0 14 0 2 0]\n",
      " [25.0 6 6 2 0]\n",
      " [25.0 20 6 2 0]\n",
      " [234.5 15 3 1 0]\n",
      " [18.5 18 0 2 0]\n",
      " [99.0 21 5 0 0]\n",
      " [75.0 9 2 1 1]\n",
      " [110.0 21 4 2 1]\n",
      " [60.0 21 6 0 1]\n",
      " [50.0 15 0 3 0]\n",
      " [300.0 16 1 2 0]\n",
      " [120.0 19 6 2 0]\n",
      " [19.99 9 3 0 0]\n",
      " [29.99 19 0 0 0]\n",
      " [120.0 14 2 2 0]\n",
      " [120.0 15 5 1 1]\n",
      " [150.0 17 2 0 0]\n",
      " [120.0 16 6 3 0]\n",
      " [120.0 12 6 3 0]\n",
      " [55.0 10 2 3 0]\n",
      " [18.5 14 1 2 0]\n",
      " [15.0 8 5 3 1]\n",
      " [300.0 9 3 0 1]\n",
      " [125.0 12 6 1 1]\n",
      " [18.5 22 4 2 1]\n",
      " [70.0 20 2 3 0]\n",
      " [60.5 9 5 1 1]\n",
      " [120.0 15 3 0 1]\n",
      " [38.5 17 5 0 1]\n",
      " [95.0 22 1 1 0]\n",
      " [60.0 10 6 2 0]\n",
      " [40.0 14 3 0 0]\n",
      " [150.0 8 3 0 1]\n",
      " [60.0 15 2 3 1]\n",
      " [15.0 11 3 3 0]\n",
      " [200.0 6 2 3 0]\n",
      " [15.0 22 0 3 1]\n",
      " [80.0 7 3 0 0]\n",
      " [70.0 15 6 2 0]\n",
      " [75.0 11 6 1 1]\n",
      " [38.5 13 1 2 0]\n",
      " [125.0 13 4 1 1]\n",
      " [70.0 21 1 3 0]\n",
      " [40.0 10 3 0 0]\n",
      " [19.99 13 4 2 1]\n",
      " [15.0 12 5 1 1]\n",
      " [180.0 7 6 2 0]\n",
      " [55.0 16 3 0 0]\n",
      " [45.0 9 4 3 1]\n",
      " [120.0 12 6 2 0]\n",
      " [200.0 15 2 0 0]\n",
      " [120.0 11 0 2 0]\n",
      " [55.0 7 1 1 0]\n",
      " [150.0 9 4 2 0]\n",
      " [25.0 16 3 0 0]\n",
      " [35.0 17 3 0 0]\n",
      " [85.0 11 2 0 0]\n",
      " [110.0 17 5 1 0]\n",
      " [110.0 6 6 1 1]\n",
      " [200.0 6 3 0 0]\n",
      " [30.0 9 2 1 0]\n",
      " [200.0 10 0 0 0]\n",
      " [120.0 11 3 3 0]\n",
      " [85.0 21 1 1 0]\n",
      " [25.0 11 2 3 0]\n",
      " [18.5 19 0 0 0]\n",
      " [125.0 7 2 1 1]\n",
      " [25.0 11 0 2 0]\n",
      " [180.0 9 2 3 0]\n",
      " [85.0 17 1 1 1]\n",
      " [90.0 18 5 3 0]\n",
      " [70.0 18 6 3 0]\n",
      " [29.99 12 5 0 1]\n",
      " [120.0 13 6 0 1]\n",
      " [85.0 21 2 1 0]\n",
      " [110.0 14 0 3 1]\n",
      " [15.0 15 5 3 0]\n",
      " [40.0 10 1 1 0]\n",
      " [29.99 7 5 2 0]]\n"
     ]
    }
   ],
   "source": [
    "print(X_train)"
   ]
  },
  {
   "cell_type": "code",
   "execution_count": 26,
   "metadata": {},
   "outputs": [
    {
     "data": {
      "text/html": [
       "<style>#sk-container-id-1 {color: black;background-color: white;}#sk-container-id-1 pre{padding: 0;}#sk-container-id-1 div.sk-toggleable {background-color: white;}#sk-container-id-1 label.sk-toggleable__label {cursor: pointer;display: block;width: 100%;margin-bottom: 0;padding: 0.3em;box-sizing: border-box;text-align: center;}#sk-container-id-1 label.sk-toggleable__label-arrow:before {content: \"▸\";float: left;margin-right: 0.25em;color: #696969;}#sk-container-id-1 label.sk-toggleable__label-arrow:hover:before {color: black;}#sk-container-id-1 div.sk-estimator:hover label.sk-toggleable__label-arrow:before {color: black;}#sk-container-id-1 div.sk-toggleable__content {max-height: 0;max-width: 0;overflow: hidden;text-align: left;background-color: #f0f8ff;}#sk-container-id-1 div.sk-toggleable__content pre {margin: 0.2em;color: black;border-radius: 0.25em;background-color: #f0f8ff;}#sk-container-id-1 input.sk-toggleable__control:checked~div.sk-toggleable__content {max-height: 200px;max-width: 100%;overflow: auto;}#sk-container-id-1 input.sk-toggleable__control:checked~label.sk-toggleable__label-arrow:before {content: \"▾\";}#sk-container-id-1 div.sk-estimator input.sk-toggleable__control:checked~label.sk-toggleable__label {background-color: #d4ebff;}#sk-container-id-1 div.sk-label input.sk-toggleable__control:checked~label.sk-toggleable__label {background-color: #d4ebff;}#sk-container-id-1 input.sk-hidden--visually {border: 0;clip: rect(1px 1px 1px 1px);clip: rect(1px, 1px, 1px, 1px);height: 1px;margin: -1px;overflow: hidden;padding: 0;position: absolute;width: 1px;}#sk-container-id-1 div.sk-estimator {font-family: monospace;background-color: #f0f8ff;border: 1px dotted black;border-radius: 0.25em;box-sizing: border-box;margin-bottom: 0.5em;}#sk-container-id-1 div.sk-estimator:hover {background-color: #d4ebff;}#sk-container-id-1 div.sk-parallel-item::after {content: \"\";width: 100%;border-bottom: 1px solid gray;flex-grow: 1;}#sk-container-id-1 div.sk-label:hover label.sk-toggleable__label {background-color: #d4ebff;}#sk-container-id-1 div.sk-serial::before {content: \"\";position: absolute;border-left: 1px solid gray;box-sizing: border-box;top: 0;bottom: 0;left: 50%;z-index: 0;}#sk-container-id-1 div.sk-serial {display: flex;flex-direction: column;align-items: center;background-color: white;padding-right: 0.2em;padding-left: 0.2em;position: relative;}#sk-container-id-1 div.sk-item {position: relative;z-index: 1;}#sk-container-id-1 div.sk-parallel {display: flex;align-items: stretch;justify-content: center;background-color: white;position: relative;}#sk-container-id-1 div.sk-item::before, #sk-container-id-1 div.sk-parallel-item::before {content: \"\";position: absolute;border-left: 1px solid gray;box-sizing: border-box;top: 0;bottom: 0;left: 50%;z-index: -1;}#sk-container-id-1 div.sk-parallel-item {display: flex;flex-direction: column;z-index: 1;position: relative;background-color: white;}#sk-container-id-1 div.sk-parallel-item:first-child::after {align-self: flex-end;width: 50%;}#sk-container-id-1 div.sk-parallel-item:last-child::after {align-self: flex-start;width: 50%;}#sk-container-id-1 div.sk-parallel-item:only-child::after {width: 0;}#sk-container-id-1 div.sk-dashed-wrapped {border: 1px dashed gray;margin: 0 0.4em 0.5em 0.4em;box-sizing: border-box;padding-bottom: 0.4em;background-color: white;}#sk-container-id-1 div.sk-label label {font-family: monospace;font-weight: bold;display: inline-block;line-height: 1.2em;}#sk-container-id-1 div.sk-label-container {text-align: center;}#sk-container-id-1 div.sk-container {/* jupyter's `normalize.less` sets `[hidden] { display: none; }` but bootstrap.min.css set `[hidden] { display: none !important; }` so we also need the `!important` here to be able to override the default hidden behavior on the sphinx rendered scikit-learn.org. See: https://github.com/scikit-learn/scikit-learn/issues/21755 */display: inline-block !important;position: relative;}#sk-container-id-1 div.sk-text-repr-fallback {display: none;}</style><div id=\"sk-container-id-1\" class=\"sk-top-container\"><div class=\"sk-text-repr-fallback\"><pre>LogisticRegression()</pre><b>In a Jupyter environment, please rerun this cell to show the HTML representation or trust the notebook. <br />On GitHub, the HTML representation is unable to render, please try loading this page with nbviewer.org.</b></div><div class=\"sk-container\" hidden><div class=\"sk-item\"><div class=\"sk-estimator sk-toggleable\"><input class=\"sk-toggleable__control sk-hidden--visually\" id=\"sk-estimator-id-1\" type=\"checkbox\" checked><label for=\"sk-estimator-id-1\" class=\"sk-toggleable__label sk-toggleable__label-arrow\">LogisticRegression</label><div class=\"sk-toggleable__content\"><pre>LogisticRegression()</pre></div></div></div></div></div>"
      ],
      "text/plain": [
       "LogisticRegression()"
      ]
     },
     "execution_count": 26,
     "metadata": {},
     "output_type": "execute_result"
    }
   ],
   "source": [
    "from sklearn.linear_model import LogisticRegression\n",
    "\n",
    "regressor=LogisticRegression()\n",
    "\n",
    "regressor.fit(X_train,Y_train)"
   ]
  },
  {
   "cell_type": "code",
   "execution_count": 27,
   "metadata": {},
   "outputs": [
    {
     "data": {
      "text/html": [
       "<style>#sk-container-id-2 {color: black;background-color: white;}#sk-container-id-2 pre{padding: 0;}#sk-container-id-2 div.sk-toggleable {background-color: white;}#sk-container-id-2 label.sk-toggleable__label {cursor: pointer;display: block;width: 100%;margin-bottom: 0;padding: 0.3em;box-sizing: border-box;text-align: center;}#sk-container-id-2 label.sk-toggleable__label-arrow:before {content: \"▸\";float: left;margin-right: 0.25em;color: #696969;}#sk-container-id-2 label.sk-toggleable__label-arrow:hover:before {color: black;}#sk-container-id-2 div.sk-estimator:hover label.sk-toggleable__label-arrow:before {color: black;}#sk-container-id-2 div.sk-toggleable__content {max-height: 0;max-width: 0;overflow: hidden;text-align: left;background-color: #f0f8ff;}#sk-container-id-2 div.sk-toggleable__content pre {margin: 0.2em;color: black;border-radius: 0.25em;background-color: #f0f8ff;}#sk-container-id-2 input.sk-toggleable__control:checked~div.sk-toggleable__content {max-height: 200px;max-width: 100%;overflow: auto;}#sk-container-id-2 input.sk-toggleable__control:checked~label.sk-toggleable__label-arrow:before {content: \"▾\";}#sk-container-id-2 div.sk-estimator input.sk-toggleable__control:checked~label.sk-toggleable__label {background-color: #d4ebff;}#sk-container-id-2 div.sk-label input.sk-toggleable__control:checked~label.sk-toggleable__label {background-color: #d4ebff;}#sk-container-id-2 input.sk-hidden--visually {border: 0;clip: rect(1px 1px 1px 1px);clip: rect(1px, 1px, 1px, 1px);height: 1px;margin: -1px;overflow: hidden;padding: 0;position: absolute;width: 1px;}#sk-container-id-2 div.sk-estimator {font-family: monospace;background-color: #f0f8ff;border: 1px dotted black;border-radius: 0.25em;box-sizing: border-box;margin-bottom: 0.5em;}#sk-container-id-2 div.sk-estimator:hover {background-color: #d4ebff;}#sk-container-id-2 div.sk-parallel-item::after {content: \"\";width: 100%;border-bottom: 1px solid gray;flex-grow: 1;}#sk-container-id-2 div.sk-label:hover label.sk-toggleable__label {background-color: #d4ebff;}#sk-container-id-2 div.sk-serial::before {content: \"\";position: absolute;border-left: 1px solid gray;box-sizing: border-box;top: 0;bottom: 0;left: 50%;z-index: 0;}#sk-container-id-2 div.sk-serial {display: flex;flex-direction: column;align-items: center;background-color: white;padding-right: 0.2em;padding-left: 0.2em;position: relative;}#sk-container-id-2 div.sk-item {position: relative;z-index: 1;}#sk-container-id-2 div.sk-parallel {display: flex;align-items: stretch;justify-content: center;background-color: white;position: relative;}#sk-container-id-2 div.sk-item::before, #sk-container-id-2 div.sk-parallel-item::before {content: \"\";position: absolute;border-left: 1px solid gray;box-sizing: border-box;top: 0;bottom: 0;left: 50%;z-index: -1;}#sk-container-id-2 div.sk-parallel-item {display: flex;flex-direction: column;z-index: 1;position: relative;background-color: white;}#sk-container-id-2 div.sk-parallel-item:first-child::after {align-self: flex-end;width: 50%;}#sk-container-id-2 div.sk-parallel-item:last-child::after {align-self: flex-start;width: 50%;}#sk-container-id-2 div.sk-parallel-item:only-child::after {width: 0;}#sk-container-id-2 div.sk-dashed-wrapped {border: 1px dashed gray;margin: 0 0.4em 0.5em 0.4em;box-sizing: border-box;padding-bottom: 0.4em;background-color: white;}#sk-container-id-2 div.sk-label label {font-family: monospace;font-weight: bold;display: inline-block;line-height: 1.2em;}#sk-container-id-2 div.sk-label-container {text-align: center;}#sk-container-id-2 div.sk-container {/* jupyter's `normalize.less` sets `[hidden] { display: none; }` but bootstrap.min.css set `[hidden] { display: none !important; }` so we also need the `!important` here to be able to override the default hidden behavior on the sphinx rendered scikit-learn.org. See: https://github.com/scikit-learn/scikit-learn/issues/21755 */display: inline-block !important;position: relative;}#sk-container-id-2 div.sk-text-repr-fallback {display: none;}</style><div id=\"sk-container-id-2\" class=\"sk-top-container\"><div class=\"sk-text-repr-fallback\"><pre>KNeighborsClassifier()</pre><b>In a Jupyter environment, please rerun this cell to show the HTML representation or trust the notebook. <br />On GitHub, the HTML representation is unable to render, please try loading this page with nbviewer.org.</b></div><div class=\"sk-container\" hidden><div class=\"sk-item\"><div class=\"sk-estimator sk-toggleable\"><input class=\"sk-toggleable__control sk-hidden--visually\" id=\"sk-estimator-id-2\" type=\"checkbox\" checked><label for=\"sk-estimator-id-2\" class=\"sk-toggleable__label sk-toggleable__label-arrow\">KNeighborsClassifier</label><div class=\"sk-toggleable__content\"><pre>KNeighborsClassifier()</pre></div></div></div></div></div>"
      ],
      "text/plain": [
       "KNeighborsClassifier()"
      ]
     },
     "execution_count": 27,
     "metadata": {},
     "output_type": "execute_result"
    }
   ],
   "source": [
    "from sklearn.neighbors import KNeighborsClassifier\n",
    "\n",
    "classifier1=KNeighborsClassifier()\n",
    "\n",
    "classifier1=KNeighborsClassifier()\n",
    "\n",
    "\n",
    "classifier1.fit(X_train,Y_train)\n",
    "\n"
   ]
  },
  {
   "cell_type": "code",
   "execution_count": 28,
   "metadata": {},
   "outputs": [
    {
     "data": {
      "text/html": [
       "<style>#sk-container-id-3 {color: black;background-color: white;}#sk-container-id-3 pre{padding: 0;}#sk-container-id-3 div.sk-toggleable {background-color: white;}#sk-container-id-3 label.sk-toggleable__label {cursor: pointer;display: block;width: 100%;margin-bottom: 0;padding: 0.3em;box-sizing: border-box;text-align: center;}#sk-container-id-3 label.sk-toggleable__label-arrow:before {content: \"▸\";float: left;margin-right: 0.25em;color: #696969;}#sk-container-id-3 label.sk-toggleable__label-arrow:hover:before {color: black;}#sk-container-id-3 div.sk-estimator:hover label.sk-toggleable__label-arrow:before {color: black;}#sk-container-id-3 div.sk-toggleable__content {max-height: 0;max-width: 0;overflow: hidden;text-align: left;background-color: #f0f8ff;}#sk-container-id-3 div.sk-toggleable__content pre {margin: 0.2em;color: black;border-radius: 0.25em;background-color: #f0f8ff;}#sk-container-id-3 input.sk-toggleable__control:checked~div.sk-toggleable__content {max-height: 200px;max-width: 100%;overflow: auto;}#sk-container-id-3 input.sk-toggleable__control:checked~label.sk-toggleable__label-arrow:before {content: \"▾\";}#sk-container-id-3 div.sk-estimator input.sk-toggleable__control:checked~label.sk-toggleable__label {background-color: #d4ebff;}#sk-container-id-3 div.sk-label input.sk-toggleable__control:checked~label.sk-toggleable__label {background-color: #d4ebff;}#sk-container-id-3 input.sk-hidden--visually {border: 0;clip: rect(1px 1px 1px 1px);clip: rect(1px, 1px, 1px, 1px);height: 1px;margin: -1px;overflow: hidden;padding: 0;position: absolute;width: 1px;}#sk-container-id-3 div.sk-estimator {font-family: monospace;background-color: #f0f8ff;border: 1px dotted black;border-radius: 0.25em;box-sizing: border-box;margin-bottom: 0.5em;}#sk-container-id-3 div.sk-estimator:hover {background-color: #d4ebff;}#sk-container-id-3 div.sk-parallel-item::after {content: \"\";width: 100%;border-bottom: 1px solid gray;flex-grow: 1;}#sk-container-id-3 div.sk-label:hover label.sk-toggleable__label {background-color: #d4ebff;}#sk-container-id-3 div.sk-serial::before {content: \"\";position: absolute;border-left: 1px solid gray;box-sizing: border-box;top: 0;bottom: 0;left: 50%;z-index: 0;}#sk-container-id-3 div.sk-serial {display: flex;flex-direction: column;align-items: center;background-color: white;padding-right: 0.2em;padding-left: 0.2em;position: relative;}#sk-container-id-3 div.sk-item {position: relative;z-index: 1;}#sk-container-id-3 div.sk-parallel {display: flex;align-items: stretch;justify-content: center;background-color: white;position: relative;}#sk-container-id-3 div.sk-item::before, #sk-container-id-3 div.sk-parallel-item::before {content: \"\";position: absolute;border-left: 1px solid gray;box-sizing: border-box;top: 0;bottom: 0;left: 50%;z-index: -1;}#sk-container-id-3 div.sk-parallel-item {display: flex;flex-direction: column;z-index: 1;position: relative;background-color: white;}#sk-container-id-3 div.sk-parallel-item:first-child::after {align-self: flex-end;width: 50%;}#sk-container-id-3 div.sk-parallel-item:last-child::after {align-self: flex-start;width: 50%;}#sk-container-id-3 div.sk-parallel-item:only-child::after {width: 0;}#sk-container-id-3 div.sk-dashed-wrapped {border: 1px dashed gray;margin: 0 0.4em 0.5em 0.4em;box-sizing: border-box;padding-bottom: 0.4em;background-color: white;}#sk-container-id-3 div.sk-label label {font-family: monospace;font-weight: bold;display: inline-block;line-height: 1.2em;}#sk-container-id-3 div.sk-label-container {text-align: center;}#sk-container-id-3 div.sk-container {/* jupyter's `normalize.less` sets `[hidden] { display: none; }` but bootstrap.min.css set `[hidden] { display: none !important; }` so we also need the `!important` here to be able to override the default hidden behavior on the sphinx rendered scikit-learn.org. See: https://github.com/scikit-learn/scikit-learn/issues/21755 */display: inline-block !important;position: relative;}#sk-container-id-3 div.sk-text-repr-fallback {display: none;}</style><div id=\"sk-container-id-3\" class=\"sk-top-container\"><div class=\"sk-text-repr-fallback\"><pre>DecisionTreeClassifier()</pre><b>In a Jupyter environment, please rerun this cell to show the HTML representation or trust the notebook. <br />On GitHub, the HTML representation is unable to render, please try loading this page with nbviewer.org.</b></div><div class=\"sk-container\" hidden><div class=\"sk-item\"><div class=\"sk-estimator sk-toggleable\"><input class=\"sk-toggleable__control sk-hidden--visually\" id=\"sk-estimator-id-3\" type=\"checkbox\" checked><label for=\"sk-estimator-id-3\" class=\"sk-toggleable__label sk-toggleable__label-arrow\">DecisionTreeClassifier</label><div class=\"sk-toggleable__content\"><pre>DecisionTreeClassifier()</pre></div></div></div></div></div>"
      ],
      "text/plain": [
       "DecisionTreeClassifier()"
      ]
     },
     "execution_count": 28,
     "metadata": {},
     "output_type": "execute_result"
    }
   ],
   "source": [
    "from sklearn.tree import DecisionTreeClassifier\n",
    "\n",
    "classifier2=DecisionTreeClassifier()\n",
    "\n",
    "classifier2.fit(X_train,Y_train)\n",
    "\n"
   ]
  },
  {
   "cell_type": "code",
   "execution_count": 29,
   "metadata": {},
   "outputs": [
    {
     "data": {
      "text/html": [
       "<style>#sk-container-id-4 {color: black;background-color: white;}#sk-container-id-4 pre{padding: 0;}#sk-container-id-4 div.sk-toggleable {background-color: white;}#sk-container-id-4 label.sk-toggleable__label {cursor: pointer;display: block;width: 100%;margin-bottom: 0;padding: 0.3em;box-sizing: border-box;text-align: center;}#sk-container-id-4 label.sk-toggleable__label-arrow:before {content: \"▸\";float: left;margin-right: 0.25em;color: #696969;}#sk-container-id-4 label.sk-toggleable__label-arrow:hover:before {color: black;}#sk-container-id-4 div.sk-estimator:hover label.sk-toggleable__label-arrow:before {color: black;}#sk-container-id-4 div.sk-toggleable__content {max-height: 0;max-width: 0;overflow: hidden;text-align: left;background-color: #f0f8ff;}#sk-container-id-4 div.sk-toggleable__content pre {margin: 0.2em;color: black;border-radius: 0.25em;background-color: #f0f8ff;}#sk-container-id-4 input.sk-toggleable__control:checked~div.sk-toggleable__content {max-height: 200px;max-width: 100%;overflow: auto;}#sk-container-id-4 input.sk-toggleable__control:checked~label.sk-toggleable__label-arrow:before {content: \"▾\";}#sk-container-id-4 div.sk-estimator input.sk-toggleable__control:checked~label.sk-toggleable__label {background-color: #d4ebff;}#sk-container-id-4 div.sk-label input.sk-toggleable__control:checked~label.sk-toggleable__label {background-color: #d4ebff;}#sk-container-id-4 input.sk-hidden--visually {border: 0;clip: rect(1px 1px 1px 1px);clip: rect(1px, 1px, 1px, 1px);height: 1px;margin: -1px;overflow: hidden;padding: 0;position: absolute;width: 1px;}#sk-container-id-4 div.sk-estimator {font-family: monospace;background-color: #f0f8ff;border: 1px dotted black;border-radius: 0.25em;box-sizing: border-box;margin-bottom: 0.5em;}#sk-container-id-4 div.sk-estimator:hover {background-color: #d4ebff;}#sk-container-id-4 div.sk-parallel-item::after {content: \"\";width: 100%;border-bottom: 1px solid gray;flex-grow: 1;}#sk-container-id-4 div.sk-label:hover label.sk-toggleable__label {background-color: #d4ebff;}#sk-container-id-4 div.sk-serial::before {content: \"\";position: absolute;border-left: 1px solid gray;box-sizing: border-box;top: 0;bottom: 0;left: 50%;z-index: 0;}#sk-container-id-4 div.sk-serial {display: flex;flex-direction: column;align-items: center;background-color: white;padding-right: 0.2em;padding-left: 0.2em;position: relative;}#sk-container-id-4 div.sk-item {position: relative;z-index: 1;}#sk-container-id-4 div.sk-parallel {display: flex;align-items: stretch;justify-content: center;background-color: white;position: relative;}#sk-container-id-4 div.sk-item::before, #sk-container-id-4 div.sk-parallel-item::before {content: \"\";position: absolute;border-left: 1px solid gray;box-sizing: border-box;top: 0;bottom: 0;left: 50%;z-index: -1;}#sk-container-id-4 div.sk-parallel-item {display: flex;flex-direction: column;z-index: 1;position: relative;background-color: white;}#sk-container-id-4 div.sk-parallel-item:first-child::after {align-self: flex-end;width: 50%;}#sk-container-id-4 div.sk-parallel-item:last-child::after {align-self: flex-start;width: 50%;}#sk-container-id-4 div.sk-parallel-item:only-child::after {width: 0;}#sk-container-id-4 div.sk-dashed-wrapped {border: 1px dashed gray;margin: 0 0.4em 0.5em 0.4em;box-sizing: border-box;padding-bottom: 0.4em;background-color: white;}#sk-container-id-4 div.sk-label label {font-family: monospace;font-weight: bold;display: inline-block;line-height: 1.2em;}#sk-container-id-4 div.sk-label-container {text-align: center;}#sk-container-id-4 div.sk-container {/* jupyter's `normalize.less` sets `[hidden] { display: none; }` but bootstrap.min.css set `[hidden] { display: none !important; }` so we also need the `!important` here to be able to override the default hidden behavior on the sphinx rendered scikit-learn.org. See: https://github.com/scikit-learn/scikit-learn/issues/21755 */display: inline-block !important;position: relative;}#sk-container-id-4 div.sk-text-repr-fallback {display: none;}</style><div id=\"sk-container-id-4\" class=\"sk-top-container\"><div class=\"sk-text-repr-fallback\"><pre>RandomForestClassifier()</pre><b>In a Jupyter environment, please rerun this cell to show the HTML representation or trust the notebook. <br />On GitHub, the HTML representation is unable to render, please try loading this page with nbviewer.org.</b></div><div class=\"sk-container\" hidden><div class=\"sk-item\"><div class=\"sk-estimator sk-toggleable\"><input class=\"sk-toggleable__control sk-hidden--visually\" id=\"sk-estimator-id-4\" type=\"checkbox\" checked><label for=\"sk-estimator-id-4\" class=\"sk-toggleable__label sk-toggleable__label-arrow\">RandomForestClassifier</label><div class=\"sk-toggleable__content\"><pre>RandomForestClassifier()</pre></div></div></div></div></div>"
      ],
      "text/plain": [
       "RandomForestClassifier()"
      ]
     },
     "execution_count": 29,
     "metadata": {},
     "output_type": "execute_result"
    }
   ],
   "source": [
    "from sklearn.ensemble import RandomForestClassifier\n",
    "classifier3=RandomForestClassifier(n_estimators=100)\n",
    "classifier3.fit(X_train,Y_train)"
   ]
  },
  {
   "cell_type": "code",
   "execution_count": 30,
   "metadata": {},
   "outputs": [
    {
     "name": "stdout",
     "output_type": "stream",
     "text": [
      "0.6410256410256411\n",
      "0.6923076923076923\n",
      "0.6666666666666666\n"
     ]
    }
   ],
   "source": [
    "from sklearn.metrics import accuracy_score\n",
    "\n",
    "Y_pred1=classifier1.predict(X_test)\n",
    "Y_pred2=classifier2.predict(X_test)\n",
    "Y_pred3=classifier3.predict(X_test)\n",
    "\n",
    "print(accuracy_score(Y_pred1,Y_test))\n",
    "print(accuracy_score(Y_pred2,Y_test))\n",
    "print(accuracy_score(Y_pred3,Y_test))"
   ]
  },
  {
   "cell_type": "code",
   "execution_count": 31,
   "metadata": {},
   "outputs": [
    {
     "name": "stdout",
     "output_type": "stream",
     "text": [
      "0.6666666666666666\n"
     ]
    }
   ],
   "source": [
    "from sklearn.metrics import accuracy_score\n",
    "\n",
    "Y_pred=classifier3.predict(X_test)\n",
    "print(accuracy_score(Y_pred3,Y_test))"
   ]
  },
  {
   "cell_type": "code",
   "execution_count": 32,
   "metadata": {},
   "outputs": [],
   "source": [
    "import pickle\n",
    "\n",
    "model=open('model.pkl','wb')\n",
    "\n",
    "pickle.dump(classifier3,model)\n",
    "\n",
    "model.close()"
   ]
  },
  {
   "cell_type": "code",
   "execution_count": null,
   "metadata": {},
   "outputs": [],
   "source": []
  },
  {
   "cell_type": "code",
   "execution_count": null,
   "metadata": {},
   "outputs": [],
   "source": []
  }
 ],
 "metadata": {
  "kernelspec": {
   "display_name": "Python 3",
   "language": "python",
   "name": "python3"
  },
  "language_info": {
   "codemirror_mode": {
    "name": "ipython",
    "version": 3
   },
   "file_extension": ".py",
   "mimetype": "text/x-python",
   "name": "python",
   "nbconvert_exporter": "python",
   "pygments_lexer": "ipython3",
   "version": "3.10.6"
  }
 },
 "nbformat": 4,
 "nbformat_minor": 2
}
